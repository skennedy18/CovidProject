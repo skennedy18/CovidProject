{
 "cells": [
  {
   "cell_type": "code",
   "execution_count": 1,
   "metadata": {},
   "outputs": [],
   "source": [
    "import gmaps\n",
    "import pandas as pd\n",
    "from ipywidgets.embed import embed_minimal_html\n",
    "\n",
    "from config import gkey\n",
    "gmaps.configure(api_key=gkey)"
   ]
  },
  {
   "cell_type": "code",
   "execution_count": 2,
   "metadata": {},
   "outputs": [],
   "source": [
    "path= 'Resources/Confirmed_Geo.csv'"
   ]
  },
  {
   "cell_type": "code",
   "execution_count": 3,
   "metadata": {},
   "outputs": [
    {
     "data": {
      "text/html": [
       "<div>\n",
       "<style scoped>\n",
       "    .dataframe tbody tr th:only-of-type {\n",
       "        vertical-align: middle;\n",
       "    }\n",
       "\n",
       "    .dataframe tbody tr th {\n",
       "        vertical-align: top;\n",
       "    }\n",
       "\n",
       "    .dataframe thead th {\n",
       "        text-align: right;\n",
       "    }\n",
       "</style>\n",
       "<table border=\"1\" class=\"dataframe\">\n",
       "  <thead>\n",
       "    <tr style=\"text-align: right;\">\n",
       "      <th></th>\n",
       "      <th>zip</th>\n",
       "      <th>confirmed_cases</th>\n",
       "      <th>Latitude</th>\n",
       "      <th>Longitude</th>\n",
       "      <th>geopoint</th>\n",
       "    </tr>\n",
       "  </thead>\n",
       "  <tbody>\n",
       "    <tr>\n",
       "      <th>0</th>\n",
       "      <td>60002</td>\n",
       "      <td>28</td>\n",
       "      <td>42.466170</td>\n",
       "      <td>-88.09995</td>\n",
       "      <td>42.46617,-88.09995</td>\n",
       "    </tr>\n",
       "    <tr>\n",
       "      <th>1</th>\n",
       "      <td>60004</td>\n",
       "      <td>52</td>\n",
       "      <td>42.108428</td>\n",
       "      <td>-87.97723</td>\n",
       "      <td>42.108428,-87.97723</td>\n",
       "    </tr>\n",
       "    <tr>\n",
       "      <th>2</th>\n",
       "      <td>60005</td>\n",
       "      <td>33</td>\n",
       "      <td>42.069327</td>\n",
       "      <td>-87.98464</td>\n",
       "      <td>42.069327,-87.98464</td>\n",
       "    </tr>\n",
       "    <tr>\n",
       "      <th>3</th>\n",
       "      <td>60007</td>\n",
       "      <td>47</td>\n",
       "      <td>42.005978</td>\n",
       "      <td>-87.99847</td>\n",
       "      <td>42.005978,-87.99847</td>\n",
       "    </tr>\n",
       "    <tr>\n",
       "      <th>4</th>\n",
       "      <td>60008</td>\n",
       "      <td>29</td>\n",
       "      <td>42.075060</td>\n",
       "      <td>-88.02508</td>\n",
       "      <td>42.07506,-88.02508</td>\n",
       "    </tr>\n",
       "    <tr>\n",
       "      <th>...</th>\n",
       "      <td>...</td>\n",
       "      <td>...</td>\n",
       "      <td>...</td>\n",
       "      <td>...</td>\n",
       "      <td>...</td>\n",
       "    </tr>\n",
       "    <tr>\n",
       "      <th>348</th>\n",
       "      <td>62650</td>\n",
       "      <td>9</td>\n",
       "      <td>39.730234</td>\n",
       "      <td>-90.22941</td>\n",
       "      <td>39.730234,-90.22941</td>\n",
       "    </tr>\n",
       "    <tr>\n",
       "      <th>349</th>\n",
       "      <td>62702</td>\n",
       "      <td>11</td>\n",
       "      <td>39.819000</td>\n",
       "      <td>-89.64379</td>\n",
       "      <td>39.819,-89.64379</td>\n",
       "    </tr>\n",
       "    <tr>\n",
       "      <th>350</th>\n",
       "      <td>62801</td>\n",
       "      <td>31</td>\n",
       "      <td>38.523736</td>\n",
       "      <td>-89.12570</td>\n",
       "      <td>38.523736,-89.1257</td>\n",
       "    </tr>\n",
       "    <tr>\n",
       "      <th>351</th>\n",
       "      <td>62901</td>\n",
       "      <td>30</td>\n",
       "      <td>37.707763</td>\n",
       "      <td>-89.19246</td>\n",
       "      <td>37.707763,-89.19246</td>\n",
       "    </tr>\n",
       "    <tr>\n",
       "      <th>352</th>\n",
       "      <td>62959</td>\n",
       "      <td>7</td>\n",
       "      <td>37.724504</td>\n",
       "      <td>-88.92968</td>\n",
       "      <td>37.724504,-88.92968</td>\n",
       "    </tr>\n",
       "  </tbody>\n",
       "</table>\n",
       "<p>353 rows × 5 columns</p>\n",
       "</div>"
      ],
      "text/plain": [
       "       zip  confirmed_cases   Latitude  Longitude             geopoint\n",
       "0    60002               28  42.466170  -88.09995   42.46617,-88.09995\n",
       "1    60004               52  42.108428  -87.97723  42.108428,-87.97723\n",
       "2    60005               33  42.069327  -87.98464  42.069327,-87.98464\n",
       "3    60007               47  42.005978  -87.99847  42.005978,-87.99847\n",
       "4    60008               29  42.075060  -88.02508   42.07506,-88.02508\n",
       "..     ...              ...        ...        ...                  ...\n",
       "348  62650                9  39.730234  -90.22941  39.730234,-90.22941\n",
       "349  62702               11  39.819000  -89.64379     39.819,-89.64379\n",
       "350  62801               31  38.523736  -89.12570   38.523736,-89.1257\n",
       "351  62901               30  37.707763  -89.19246  37.707763,-89.19246\n",
       "352  62959                7  37.724504  -88.92968  37.724504,-88.92968\n",
       "\n",
       "[353 rows x 5 columns]"
      ]
     },
     "execution_count": 3,
     "metadata": {},
     "output_type": "execute_result"
    }
   ],
   "source": [
    "Geodf= pd.read_csv(path)\n",
    "Geodf"
   ]
  },
  {
   "cell_type": "code",
   "execution_count": 4,
   "metadata": {},
   "outputs": [],
   "source": [
    "locations= Geodf[['Latitude','Longitude']]\n",
    "cases= Geodf['confirmed_cases'].astype(float)\n",
    "max_cases= Geodf['confirmed_cases'].max()"
   ]
  },
  {
   "cell_type": "code",
   "execution_count": 5,
   "metadata": {},
   "outputs": [],
   "source": [
    "fig= gmaps.figure()\n",
    "gradient = [\n",
    "          'rgba(0, 255, 255, 0)',\n",
    "          'rgba(0, 255, 255, 1)',\n",
    "          'rgba(0, 191, 255, 1)',\n",
    "          'rgba(0, 127, 255, 1)',\n",
    "          'rgba(0, 63, 255, 1)',\n",
    "          'rgba(0, 0, 255, 1)',\n",
    "          'rgba(0, 0, 223, 1)',\n",
    "          'rgba(0, 0, 191, 1)',\n",
    "          'rgba(0, 0, 159, 1)',\n",
    "          'rgba(0, 0, 127, 1)',\n",
    "          'rgba(63, 0, 91, 1)',\n",
    "          'rgba(127, 0, 63, 1)',\n",
    "          'rgba(191, 0, 31, 1)',\n",
    "          'rgba(255, 0, 0, 1)'\n",
    "        ]"
   ]
  },
  {
   "cell_type": "code",
   "execution_count": 6,
   "metadata": {},
   "outputs": [],
   "source": [
    "heat_layer = gmaps.heatmap_layer(locations, weights=cases,\n",
    "                                dissipating=False, max_intensity=100,\n",
    "                                point_radius=.1, gradient= gradient)\n",
    "fig.add_layer(heat_layer)"
   ]
  },
  {
   "cell_type": "code",
   "execution_count": 7,
   "metadata": {},
   "outputs": [
    {
     "data": {
      "application/vnd.jupyter.widget-view+json": {
       "model_id": "a43392a7b5bc4fa187bdd82d04ffab4b",
       "version_major": 2,
       "version_minor": 0
      },
      "text/plain": [
       "Figure(layout=FigureLayout(height='420px'))"
      ]
     },
     "metadata": {},
     "output_type": "display_data"
    }
   ],
   "source": [
    "fig"
   ]
  },
  {
   "cell_type": "code",
   "execution_count": 9,
   "metadata": {},
   "outputs": [],
   "source": [
    "embed_minimal_html('Output/Illinois_cases.html', views=[fig])"
   ]
  },
  {
   "cell_type": "code",
   "execution_count": null,
   "metadata": {},
   "outputs": [],
   "source": []
  }
 ],
 "metadata": {
  "kernelspec": {
   "display_name": "Python 3",
   "language": "python",
   "name": "python3"
  },
  "language_info": {
   "codemirror_mode": {
    "name": "ipython",
    "version": 3
   },
   "file_extension": ".py",
   "mimetype": "text/x-python",
   "name": "python",
   "nbconvert_exporter": "python",
   "pygments_lexer": "ipython3",
   "version": "3.7.6"
  }
 },
 "nbformat": 4,
 "nbformat_minor": 4
}
